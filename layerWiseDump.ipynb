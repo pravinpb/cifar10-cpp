{
 "cells": [
  {
   "cell_type": "code",
   "execution_count": 4,
   "metadata": {},
   "outputs": [],
   "source": [
    "import numpy as np\n",
    "import json\n",
    "import os\n",
    "import tensorflow as tf\n",
    "import onnx"
   ]
  },
  {
   "cell_type": "code",
   "execution_count": 5,
   "metadata": {},
   "outputs": [],
   "source": [
    "import os\n",
    "import json\n",
    "import numpy as np\n",
    "import tensorflow as tf\n",
    "\n",
    "# Save tensor as binary file\n",
    "def save_tensor_as_bin(tensor, filepath):\n",
    "    np_array = tensor.numpy() if isinstance(tensor, tf.Tensor) else tensor\n",
    "    np_array.tofile(filepath)\n",
    "\n",
    "# Save JSON file\n",
    "def save_json(data, filepath):\n",
    "    with open(filepath, 'w') as f:\n",
    "        json.dump(data, f, indent=4)\n",
    "\n",
    "# Create directories\n",
    "def create_dir(dir_path):\n",
    "    if not os.path.exists(dir_path):\n",
    "        os.makedirs(dir_path)"
   ]
  },
  {
   "cell_type": "code",
   "execution_count": 6,
   "metadata": {},
   "outputs": [],
   "source": [
    "# Layer-wise dump with a single JSON for the model architecture\n",
    "def layer_wise_dump_tf(model, input_tensor, save_dir):\n",
    "    # Ensure save directory structure\n",
    "    create_dir(save_dir)\n",
    "    create_dir(f\"{save_dir}/input\")\n",
    "    create_dir(f\"{save_dir}/output\")\n",
    "    create_dir(f\"{save_dir}/weights\")\n",
    "    create_dir(f\"{save_dir}/reference\")\n",
    "\n",
    "    model_architecture = {\n",
    "        \"model_name\": model.name,\n",
    "        \"num_layers\": len(model.layers),\n",
    "        \"input_shape\": list(model.input_shape) if hasattr(model, 'input_shape') else \"Unknown\",\n",
    "        \"output_shape\": list(model.output_shape) if hasattr(model, 'output_shape') else \"Unknown\",\n",
    "        \"layers\": []\n",
    "    }\n",
    "\n",
    "    x = input_tensor\n",
    "    for layer in model.layers:\n",
    "        layer_name = layer.name\n",
    "\n",
    "        # Save input tensor\n",
    "        input_filepath = f\"{save_dir}/input/{layer_name}_input.bin\"\n",
    "        save_tensor_as_bin(x, input_filepath)\n",
    "\n",
    "        # Save weights\n",
    "        weight_filepaths = []\n",
    "        if hasattr(layer, 'weights') and layer.weights:\n",
    "            for weight in layer.weights:\n",
    "                weight_name = weight.name.split(\"/\")[-1].replace(\":\", \"_\")\n",
    "                weight_filepath = f\"{save_dir}/weights/{layer_name}_{weight_name}.bin\"\n",
    "                save_tensor_as_bin(weight.numpy(), weight_filepath)\n",
    "                weight_filepaths.append(weight_filepath)\n",
    "\n",
    "        # Compute layer output\n",
    "        x = layer(x)\n",
    "\n",
    "        # Save output tensor\n",
    "        output_filepath = f\"{save_dir}/output/{layer_name}_output.bin\"\n",
    "        save_tensor_as_bin(x, output_filepath)\n",
    "\n",
    "        # Gather layer attributes\n",
    "        layer_attributes = {\n",
    "            \"layer_name\": layer_name,\n",
    "            \"type\": layer.__class__.__name__,\n",
    "            \"input_shape\": list(layer.input_shape) if hasattr(layer, 'input_shape') else \"Unknown\",\n",
    "            \"output_shape\": list(layer.output_shape) if hasattr(layer, 'output_shape') else \"Unknown\",\n",
    "            \"input_file\": input_filepath,\n",
    "            \"output_file\": output_filepath,\n",
    "            \"weight_files\": weight_filepaths,\n",
    "        }\n",
    "        if hasattr(layer, 'kernel_size'):\n",
    "            layer_attributes[\"kernel_size\"] = layer.kernel_size\n",
    "        if hasattr(layer, 'strides'):\n",
    "            layer_attributes[\"strides\"] = layer.strides\n",
    "        if hasattr(layer, 'padding'):\n",
    "            layer_attributes[\"padding\"] = layer.padding\n",
    "        if hasattr(layer, 'activation') and layer.activation:\n",
    "            layer_attributes[\"activation\"] = layer.activation.__name__\n",
    "\n",
    "        # Add layer attributes to the model architecture JSON\n",
    "        model_architecture[\"layers\"].append(layer_attributes)\n",
    "\n",
    "    # Save the complete model architecture to a single JSON file\n",
    "    save_json(model_architecture, f\"{save_dir}/model_architecture.json\")\n",
    "\n",
    "    return model_architecture\n"
   ]
  },
  {
   "cell_type": "code",
   "execution_count": 7,
   "metadata": {},
   "outputs": [
    {
     "name": "stderr",
     "output_type": "stream",
     "text": [
      "WARNING:absl:Compiled the loaded model, but the compiled metrics have yet to be built. `model.compile_metrics` will be empty until you train or evaluate the model.\n"
     ]
    }
   ],
   "source": [
    "model = tf.keras.models.load_model(\"/Users/pravinpb/pycode/MCW/Assignments/cifar10-cpp/CPU_trained_models/cifar10_model_4.h5\")"
   ]
  },
  {
   "cell_type": "code",
   "execution_count": 8,
   "metadata": {},
   "outputs": [
    {
     "data": {
      "text/plain": [
       "{'model_name': 'sequential',\n",
       " 'num_layers': 8,\n",
       " 'input_shape': [None, 32, 32, 3],\n",
       " 'output_shape': [None, 10],\n",
       " 'layers': [{'layer_name': 'conv2d',\n",
       "   'type': 'Conv2D',\n",
       "   'input_shape': 'Unknown',\n",
       "   'output_shape': 'Unknown',\n",
       "   'input_file': 'data/input/conv2d_input.bin',\n",
       "   'output_file': 'data/output/conv2d_output.bin',\n",
       "   'weight_files': ['data/weights/conv2d_kernel.bin',\n",
       "    'data/weights/conv2d_bias.bin'],\n",
       "   'kernel_size': (3, 3),\n",
       "   'strides': (1, 1),\n",
       "   'padding': 'valid',\n",
       "   'activation': 'relu'},\n",
       "  {'layer_name': 'max_pooling2d',\n",
       "   'type': 'MaxPooling2D',\n",
       "   'input_shape': 'Unknown',\n",
       "   'output_shape': 'Unknown',\n",
       "   'input_file': 'data/input/max_pooling2d_input.bin',\n",
       "   'output_file': 'data/output/max_pooling2d_output.bin',\n",
       "   'weight_files': [],\n",
       "   'strides': (2, 2),\n",
       "   'padding': 'valid'},\n",
       "  {'layer_name': 'conv2d_1',\n",
       "   'type': 'Conv2D',\n",
       "   'input_shape': 'Unknown',\n",
       "   'output_shape': 'Unknown',\n",
       "   'input_file': 'data/input/conv2d_1_input.bin',\n",
       "   'output_file': 'data/output/conv2d_1_output.bin',\n",
       "   'weight_files': ['data/weights/conv2d_1_kernel.bin',\n",
       "    'data/weights/conv2d_1_bias.bin'],\n",
       "   'kernel_size': (3, 3),\n",
       "   'strides': (1, 1),\n",
       "   'padding': 'valid',\n",
       "   'activation': 'relu'},\n",
       "  {'layer_name': 'max_pooling2d_1',\n",
       "   'type': 'MaxPooling2D',\n",
       "   'input_shape': 'Unknown',\n",
       "   'output_shape': 'Unknown',\n",
       "   'input_file': 'data/input/max_pooling2d_1_input.bin',\n",
       "   'output_file': 'data/output/max_pooling2d_1_output.bin',\n",
       "   'weight_files': [],\n",
       "   'strides': (2, 2),\n",
       "   'padding': 'valid'},\n",
       "  {'layer_name': 'conv2d_2',\n",
       "   'type': 'Conv2D',\n",
       "   'input_shape': 'Unknown',\n",
       "   'output_shape': 'Unknown',\n",
       "   'input_file': 'data/input/conv2d_2_input.bin',\n",
       "   'output_file': 'data/output/conv2d_2_output.bin',\n",
       "   'weight_files': ['data/weights/conv2d_2_kernel.bin',\n",
       "    'data/weights/conv2d_2_bias.bin'],\n",
       "   'kernel_size': (3, 3),\n",
       "   'strides': (1, 1),\n",
       "   'padding': 'valid',\n",
       "   'activation': 'relu'},\n",
       "  {'layer_name': 'flatten',\n",
       "   'type': 'Flatten',\n",
       "   'input_shape': 'Unknown',\n",
       "   'output_shape': 'Unknown',\n",
       "   'input_file': 'data/input/flatten_input.bin',\n",
       "   'output_file': 'data/output/flatten_output.bin',\n",
       "   'weight_files': []},\n",
       "  {'layer_name': 'dense',\n",
       "   'type': 'Dense',\n",
       "   'input_shape': 'Unknown',\n",
       "   'output_shape': 'Unknown',\n",
       "   'input_file': 'data/input/dense_input.bin',\n",
       "   'output_file': 'data/output/dense_output.bin',\n",
       "   'weight_files': ['data/weights/dense_kernel.bin',\n",
       "    'data/weights/dense_bias.bin'],\n",
       "   'activation': 'relu'},\n",
       "  {'layer_name': 'dense_1',\n",
       "   'type': 'Dense',\n",
       "   'input_shape': 'Unknown',\n",
       "   'output_shape': 'Unknown',\n",
       "   'input_file': 'data/input/dense_1_input.bin',\n",
       "   'output_file': 'data/output/dense_1_output.bin',\n",
       "   'weight_files': ['data/weights/dense_1_kernel.bin',\n",
       "    'data/weights/dense_1_bias.bin'],\n",
       "   'activation': 'softmax'}]}"
      ]
     },
     "execution_count": 8,
     "metadata": {},
     "output_type": "execute_result"
    }
   ],
   "source": [
    "input_tensor = tf.random.normal([1, 32, 32, 3])  # Random input for CIFAR-10\n",
    "layer_wise_dump_tf(model, input_tensor, save_dir=\"data\")"
   ]
  },
  {
   "cell_type": "code",
   "execution_count": 9,
   "metadata": {},
   "outputs": [],
   "source": [
    "import os\n",
    "import json\n",
    "import numpy as np\n",
    "\n",
    "def generate_layer_config(model, save_dir, config_file_path):\n",
    "    # Build model or run a dummy forward pass to infer shapes\n",
    "    if not model.built:\n",
    "        # Infer the input shape from the model's first layer\n",
    "        input_shape = model.input_shape if hasattr(model, 'input_shape') else None\n",
    "        if input_shape:\n",
    "            model.build(input_shape)\n",
    "        else:\n",
    "            # Use dummy input if input_shape is unknown\n",
    "            dummy_input = np.random.random((1, *model.layers[0].input_shape[1:]))\n",
    "            model(dummy_input)\n",
    "    \n",
    "    layer_configs = []  # List to store layer-wise configurations\n",
    "\n",
    "    for layer in model.layers:\n",
    "        layer_name = layer.name\n",
    "\n",
    "        # Construct layer configuration\n",
    "        layer_config = {\n",
    "            \"layer_name\": layer_name,\n",
    "            \"type\": layer.__class__.__name__,  # Correct way to get the class name\n",
    "            \"input_file_path\": f\"{save_dir}/input/{layer_name}_input.bin\",\n",
    "            \"output_file_path\": f\"{save_dir}/output/{layer_name}_output.bin\",\n",
    "            \"weights_file_paths\": [],  # To be filled if the layer has weights\n",
    "            \"attributes\": {\n",
    "                \"input_shape\": list(layer.input_shape) if hasattr(layer, 'input_shape') else \"Unknown\",\n",
    "                \"output_shape\": list(layer.output_shape) if hasattr(layer, 'output_shape') else \"Unknown\",\n",
    "            }\n",
    "        }\n",
    "\n",
    "        # Add weights and biases if applicable\n",
    "        if hasattr(layer, 'weights') and layer.weights:\n",
    "            for weight in layer.weights:\n",
    "                weight_name = weight.name.split(\"/\")[-1].replace(\":\", \"_\")\n",
    "                weight_file_path = f\"{save_dir}/weights/{layer_name}_{weight_name}.bin\"\n",
    "                layer_config[\"weights_file_paths\"].append(weight_file_path)\n",
    "\n",
    "        # Add other layer-specific attributes if available\n",
    "        if hasattr(layer, 'kernel_size'):\n",
    "            layer_config[\"attributes\"][\"kernel_size\"] = layer.kernel_size\n",
    "        if hasattr(layer, 'strides'):\n",
    "            layer_config[\"attributes\"][\"strides\"] = layer.strides\n",
    "        if hasattr(layer, 'padding'):\n",
    "            layer_config[\"attributes\"][\"padding\"] = layer.padding\n",
    "        if hasattr(layer, 'activation') and layer.activation:\n",
    "            layer_config[\"attributes\"][\"activation\"] = layer.activation.__name__\n",
    "\n",
    "        # Append this layer's config to the list\n",
    "        layer_configs.append(layer_config)\n",
    "\n",
    "    # Save all configurations to a JSON file\n",
    "    with open(config_file_path, 'w') as config_file:\n",
    "        json.dump({\"layers\": layer_configs}, config_file, indent=4)\n",
    "\n",
    "    print(f\"Configuration file saved to {config_file_path}\")\n"
   ]
  },
  {
   "cell_type": "code",
   "execution_count": 10,
   "metadata": {},
   "outputs": [
    {
     "name": "stderr",
     "output_type": "stream",
     "text": [
      "WARNING:absl:Compiled the loaded model, but the compiled metrics have yet to be built. `model.compile_metrics` will be empty until you train or evaluate the model.\n"
     ]
    },
    {
     "name": "stdout",
     "output_type": "stream",
     "text": [
      "Configuration file saved to /Users/pravinpb/pycode/MCW/Assignments/cifar10-cpp/configs/json/model_config.json\n"
     ]
    }
   ],
   "source": [
    "# Assuming the `data` folder is in the current directory\n",
    "data_folder = \"/Users/pravinpb/pycode/MCW/Assignments/cifar10-cpp/data\"\n",
    "output_json_file = \"/Users/pravinpb/pycode/MCW/Assignments/cifar10-cpp/configs/json/model_config.json\"\n",
    "model = tf.keras.models.load_model(\"/Users/pravinpb/pycode/MCW/Assignments/cifar10-cpp/CPU_trained_models/cifar10_model_4.h5\")\n",
    "\n",
    "generate_layer_config(model, data_folder, output_json_file)\n"
   ]
  },
  {
   "cell_type": "code",
   "execution_count": 11,
   "metadata": {},
   "outputs": [
    {
     "data": {
      "text/html": [
       "<pre style=\"white-space:pre;overflow-x:auto;line-height:normal;font-family:Menlo,'DejaVu Sans Mono',consolas,'Courier New',monospace\"><span style=\"font-weight: bold\">Model: \"sequential\"</span>\n",
       "</pre>\n"
      ],
      "text/plain": [
       "\u001b[1mModel: \"sequential\"\u001b[0m\n"
      ]
     },
     "metadata": {},
     "output_type": "display_data"
    },
    {
     "data": {
      "text/html": [
       "<pre style=\"white-space:pre;overflow-x:auto;line-height:normal;font-family:Menlo,'DejaVu Sans Mono',consolas,'Courier New',monospace\">┏━━━━━━━━━━━━━━━━━━━━━━━━━━━━━━━━━┳━━━━━━━━━━━━━━━━━━━━━━━━┳━━━━━━━━━━━━━━━┓\n",
       "┃<span style=\"font-weight: bold\"> Layer (type)                    </span>┃<span style=\"font-weight: bold\"> Output Shape           </span>┃<span style=\"font-weight: bold\">       Param # </span>┃\n",
       "┡━━━━━━━━━━━━━━━━━━━━━━━━━━━━━━━━━╇━━━━━━━━━━━━━━━━━━━━━━━━╇━━━━━━━━━━━━━━━┩\n",
       "│ conv2d (<span style=\"color: #0087ff; text-decoration-color: #0087ff\">Conv2D</span>)                 │ (<span style=\"color: #00d7ff; text-decoration-color: #00d7ff\">None</span>, <span style=\"color: #00af00; text-decoration-color: #00af00\">30</span>, <span style=\"color: #00af00; text-decoration-color: #00af00\">30</span>, <span style=\"color: #00af00; text-decoration-color: #00af00\">96</span>)     │         <span style=\"color: #00af00; text-decoration-color: #00af00\">2,688</span> │\n",
       "├─────────────────────────────────┼────────────────────────┼───────────────┤\n",
       "│ max_pooling2d (<span style=\"color: #0087ff; text-decoration-color: #0087ff\">MaxPooling2D</span>)    │ (<span style=\"color: #00d7ff; text-decoration-color: #00d7ff\">None</span>, <span style=\"color: #00af00; text-decoration-color: #00af00\">15</span>, <span style=\"color: #00af00; text-decoration-color: #00af00\">15</span>, <span style=\"color: #00af00; text-decoration-color: #00af00\">96</span>)     │             <span style=\"color: #00af00; text-decoration-color: #00af00\">0</span> │\n",
       "├─────────────────────────────────┼────────────────────────┼───────────────┤\n",
       "│ conv2d_1 (<span style=\"color: #0087ff; text-decoration-color: #0087ff\">Conv2D</span>)               │ (<span style=\"color: #00d7ff; text-decoration-color: #00d7ff\">None</span>, <span style=\"color: #00af00; text-decoration-color: #00af00\">13</span>, <span style=\"color: #00af00; text-decoration-color: #00af00\">13</span>, <span style=\"color: #00af00; text-decoration-color: #00af00\">192</span>)    │       <span style=\"color: #00af00; text-decoration-color: #00af00\">166,080</span> │\n",
       "├─────────────────────────────────┼────────────────────────┼───────────────┤\n",
       "│ max_pooling2d_1 (<span style=\"color: #0087ff; text-decoration-color: #0087ff\">MaxPooling2D</span>)  │ (<span style=\"color: #00d7ff; text-decoration-color: #00d7ff\">None</span>, <span style=\"color: #00af00; text-decoration-color: #00af00\">6</span>, <span style=\"color: #00af00; text-decoration-color: #00af00\">6</span>, <span style=\"color: #00af00; text-decoration-color: #00af00\">192</span>)      │             <span style=\"color: #00af00; text-decoration-color: #00af00\">0</span> │\n",
       "├─────────────────────────────────┼────────────────────────┼───────────────┤\n",
       "│ conv2d_2 (<span style=\"color: #0087ff; text-decoration-color: #0087ff\">Conv2D</span>)               │ (<span style=\"color: #00d7ff; text-decoration-color: #00d7ff\">None</span>, <span style=\"color: #00af00; text-decoration-color: #00af00\">4</span>, <span style=\"color: #00af00; text-decoration-color: #00af00\">4</span>, <span style=\"color: #00af00; text-decoration-color: #00af00\">256</span>)      │       <span style=\"color: #00af00; text-decoration-color: #00af00\">442,624</span> │\n",
       "├─────────────────────────────────┼────────────────────────┼───────────────┤\n",
       "│ flatten (<span style=\"color: #0087ff; text-decoration-color: #0087ff\">Flatten</span>)               │ (<span style=\"color: #00d7ff; text-decoration-color: #00d7ff\">None</span>, <span style=\"color: #00af00; text-decoration-color: #00af00\">4096</span>)           │             <span style=\"color: #00af00; text-decoration-color: #00af00\">0</span> │\n",
       "├─────────────────────────────────┼────────────────────────┼───────────────┤\n",
       "│ dense (<span style=\"color: #0087ff; text-decoration-color: #0087ff\">Dense</span>)                   │ (<span style=\"color: #00d7ff; text-decoration-color: #00d7ff\">None</span>, <span style=\"color: #00af00; text-decoration-color: #00af00\">64</span>)             │       <span style=\"color: #00af00; text-decoration-color: #00af00\">262,208</span> │\n",
       "├─────────────────────────────────┼────────────────────────┼───────────────┤\n",
       "│ dense_1 (<span style=\"color: #0087ff; text-decoration-color: #0087ff\">Dense</span>)                 │ (<span style=\"color: #00d7ff; text-decoration-color: #00d7ff\">None</span>, <span style=\"color: #00af00; text-decoration-color: #00af00\">10</span>)             │           <span style=\"color: #00af00; text-decoration-color: #00af00\">650</span> │\n",
       "└─────────────────────────────────┴────────────────────────┴───────────────┘\n",
       "</pre>\n"
      ],
      "text/plain": [
       "┏━━━━━━━━━━━━━━━━━━━━━━━━━━━━━━━━━┳━━━━━━━━━━━━━━━━━━━━━━━━┳━━━━━━━━━━━━━━━┓\n",
       "┃\u001b[1m \u001b[0m\u001b[1mLayer (type)                   \u001b[0m\u001b[1m \u001b[0m┃\u001b[1m \u001b[0m\u001b[1mOutput Shape          \u001b[0m\u001b[1m \u001b[0m┃\u001b[1m \u001b[0m\u001b[1m      Param #\u001b[0m\u001b[1m \u001b[0m┃\n",
       "┡━━━━━━━━━━━━━━━━━━━━━━━━━━━━━━━━━╇━━━━━━━━━━━━━━━━━━━━━━━━╇━━━━━━━━━━━━━━━┩\n",
       "│ conv2d (\u001b[38;5;33mConv2D\u001b[0m)                 │ (\u001b[38;5;45mNone\u001b[0m, \u001b[38;5;34m30\u001b[0m, \u001b[38;5;34m30\u001b[0m, \u001b[38;5;34m96\u001b[0m)     │         \u001b[38;5;34m2,688\u001b[0m │\n",
       "├─────────────────────────────────┼────────────────────────┼───────────────┤\n",
       "│ max_pooling2d (\u001b[38;5;33mMaxPooling2D\u001b[0m)    │ (\u001b[38;5;45mNone\u001b[0m, \u001b[38;5;34m15\u001b[0m, \u001b[38;5;34m15\u001b[0m, \u001b[38;5;34m96\u001b[0m)     │             \u001b[38;5;34m0\u001b[0m │\n",
       "├─────────────────────────────────┼────────────────────────┼───────────────┤\n",
       "│ conv2d_1 (\u001b[38;5;33mConv2D\u001b[0m)               │ (\u001b[38;5;45mNone\u001b[0m, \u001b[38;5;34m13\u001b[0m, \u001b[38;5;34m13\u001b[0m, \u001b[38;5;34m192\u001b[0m)    │       \u001b[38;5;34m166,080\u001b[0m │\n",
       "├─────────────────────────────────┼────────────────────────┼───────────────┤\n",
       "│ max_pooling2d_1 (\u001b[38;5;33mMaxPooling2D\u001b[0m)  │ (\u001b[38;5;45mNone\u001b[0m, \u001b[38;5;34m6\u001b[0m, \u001b[38;5;34m6\u001b[0m, \u001b[38;5;34m192\u001b[0m)      │             \u001b[38;5;34m0\u001b[0m │\n",
       "├─────────────────────────────────┼────────────────────────┼───────────────┤\n",
       "│ conv2d_2 (\u001b[38;5;33mConv2D\u001b[0m)               │ (\u001b[38;5;45mNone\u001b[0m, \u001b[38;5;34m4\u001b[0m, \u001b[38;5;34m4\u001b[0m, \u001b[38;5;34m256\u001b[0m)      │       \u001b[38;5;34m442,624\u001b[0m │\n",
       "├─────────────────────────────────┼────────────────────────┼───────────────┤\n",
       "│ flatten (\u001b[38;5;33mFlatten\u001b[0m)               │ (\u001b[38;5;45mNone\u001b[0m, \u001b[38;5;34m4096\u001b[0m)           │             \u001b[38;5;34m0\u001b[0m │\n",
       "├─────────────────────────────────┼────────────────────────┼───────────────┤\n",
       "│ dense (\u001b[38;5;33mDense\u001b[0m)                   │ (\u001b[38;5;45mNone\u001b[0m, \u001b[38;5;34m64\u001b[0m)             │       \u001b[38;5;34m262,208\u001b[0m │\n",
       "├─────────────────────────────────┼────────────────────────┼───────────────┤\n",
       "│ dense_1 (\u001b[38;5;33mDense\u001b[0m)                 │ (\u001b[38;5;45mNone\u001b[0m, \u001b[38;5;34m10\u001b[0m)             │           \u001b[38;5;34m650\u001b[0m │\n",
       "└─────────────────────────────────┴────────────────────────┴───────────────┘\n"
      ]
     },
     "metadata": {},
     "output_type": "display_data"
    },
    {
     "data": {
      "text/html": [
       "<pre style=\"white-space:pre;overflow-x:auto;line-height:normal;font-family:Menlo,'DejaVu Sans Mono',consolas,'Courier New',monospace\"><span style=\"font-weight: bold\"> Total params: </span><span style=\"color: #00af00; text-decoration-color: #00af00\">874,252</span> (3.34 MB)\n",
       "</pre>\n"
      ],
      "text/plain": [
       "\u001b[1m Total params: \u001b[0m\u001b[38;5;34m874,252\u001b[0m (3.34 MB)\n"
      ]
     },
     "metadata": {},
     "output_type": "display_data"
    },
    {
     "data": {
      "text/html": [
       "<pre style=\"white-space:pre;overflow-x:auto;line-height:normal;font-family:Menlo,'DejaVu Sans Mono',consolas,'Courier New',monospace\"><span style=\"font-weight: bold\"> Trainable params: </span><span style=\"color: #00af00; text-decoration-color: #00af00\">874,250</span> (3.33 MB)\n",
       "</pre>\n"
      ],
      "text/plain": [
       "\u001b[1m Trainable params: \u001b[0m\u001b[38;5;34m874,250\u001b[0m (3.33 MB)\n"
      ]
     },
     "metadata": {},
     "output_type": "display_data"
    },
    {
     "data": {
      "text/html": [
       "<pre style=\"white-space:pre;overflow-x:auto;line-height:normal;font-family:Menlo,'DejaVu Sans Mono',consolas,'Courier New',monospace\"><span style=\"font-weight: bold\"> Non-trainable params: </span><span style=\"color: #00af00; text-decoration-color: #00af00\">0</span> (0.00 B)\n",
       "</pre>\n"
      ],
      "text/plain": [
       "\u001b[1m Non-trainable params: \u001b[0m\u001b[38;5;34m0\u001b[0m (0.00 B)\n"
      ]
     },
     "metadata": {},
     "output_type": "display_data"
    },
    {
     "data": {
      "text/html": [
       "<pre style=\"white-space:pre;overflow-x:auto;line-height:normal;font-family:Menlo,'DejaVu Sans Mono',consolas,'Courier New',monospace\"><span style=\"font-weight: bold\"> Optimizer params: </span><span style=\"color: #00af00; text-decoration-color: #00af00\">2</span> (12.00 B)\n",
       "</pre>\n"
      ],
      "text/plain": [
       "\u001b[1m Optimizer params: \u001b[0m\u001b[38;5;34m2\u001b[0m (12.00 B)\n"
      ]
     },
     "metadata": {},
     "output_type": "display_data"
    }
   ],
   "source": [
    "model.summary()"
   ]
  },
  {
   "cell_type": "code",
   "execution_count": null,
   "metadata": {},
   "outputs": [],
   "source": []
  }
 ],
 "metadata": {
  "kernelspec": {
   "display_name": "cifar-cpp",
   "language": "python",
   "name": "python3"
  },
  "language_info": {
   "codemirror_mode": {
    "name": "ipython",
    "version": 3
   },
   "file_extension": ".py",
   "mimetype": "text/x-python",
   "name": "python",
   "nbconvert_exporter": "python",
   "pygments_lexer": "ipython3",
   "version": "3.11.0"
  }
 },
 "nbformat": 4,
 "nbformat_minor": 2
}
